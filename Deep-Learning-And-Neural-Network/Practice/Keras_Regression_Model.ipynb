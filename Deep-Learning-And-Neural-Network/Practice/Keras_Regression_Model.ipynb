{
 "cells": [
  {
   "cell_type": "code",
   "execution_count": 1,
   "metadata": {},
   "outputs": [],
   "source": [
    "#pip install --upgrade tensorflow"
   ]
  },
  {
   "cell_type": "markdown",
   "metadata": {},
   "source": [
    "A. Build a baseline model (5 marks) \n",
    "\n",
    "Use the Keras library to build a neural network with the following:\n",
    "\n",
    "- One hidden layer of 10 nodes, and a ReLU activation function\n",
    "\n",
    "- Use the adam optimizer and the mean squared error  as the loss function.\n",
    "\n",
    "1. Randomly split the data into a training and test sets by holding 30% of the data for testing. You can use the train_test_splithelper function from Scikit-learn.\n",
    "\n",
    "2. Train the model on the training data using 50 epochs.\n",
    "\n",
    "3. Evaluate the model on the test data and compute the mean squared error between the predicted concrete strength and the actual concrete strength. You can use the mean_squared_error function from Scikit-learn.\n",
    "\n",
    "4. Repeat steps 1 - 3, 50 times, i.e., create a list of 50 mean squared errors.\n",
    "\n",
    "5. Report the mean and the standard deviation of the mean squared errors."
   ]
  },
  {
   "cell_type": "code",
   "execution_count": 2,
   "metadata": {},
   "outputs": [],
   "source": [
    "# import libraries\n",
    "import tensorflow\n",
    "import pandas as pd\n",
    "from sklearn.model_selection import train_test_split"
   ]
  },
  {
   "cell_type": "code",
   "execution_count": 3,
   "metadata": {},
   "outputs": [],
   "source": [
    "# load data\n",
    "concrete_data = pd.read_csv('C:/Users/Thales/Downloads/concrete_data.csv')"
   ]
  },
  {
   "cell_type": "code",
   "execution_count": 4,
   "metadata": {},
   "outputs": [
    {
     "data": {
      "text/html": [
       "<div>\n",
       "<style scoped>\n",
       "    .dataframe tbody tr th:only-of-type {\n",
       "        vertical-align: middle;\n",
       "    }\n",
       "\n",
       "    .dataframe tbody tr th {\n",
       "        vertical-align: top;\n",
       "    }\n",
       "\n",
       "    .dataframe thead th {\n",
       "        text-align: right;\n",
       "    }\n",
       "</style>\n",
       "<table border=\"1\" class=\"dataframe\">\n",
       "  <thead>\n",
       "    <tr style=\"text-align: right;\">\n",
       "      <th></th>\n",
       "      <th>Cement</th>\n",
       "      <th>Blast Furnace Slag</th>\n",
       "      <th>Fly Ash</th>\n",
       "      <th>Water</th>\n",
       "      <th>Superplasticizer</th>\n",
       "      <th>Coarse Aggregate</th>\n",
       "      <th>Fine Aggregate</th>\n",
       "      <th>Age</th>\n",
       "      <th>Strength</th>\n",
       "    </tr>\n",
       "  </thead>\n",
       "  <tbody>\n",
       "    <tr>\n",
       "      <th>0</th>\n",
       "      <td>540.0</td>\n",
       "      <td>0.0</td>\n",
       "      <td>0.0</td>\n",
       "      <td>162.0</td>\n",
       "      <td>2.5</td>\n",
       "      <td>1040.0</td>\n",
       "      <td>676.0</td>\n",
       "      <td>28</td>\n",
       "      <td>79.99</td>\n",
       "    </tr>\n",
       "    <tr>\n",
       "      <th>1</th>\n",
       "      <td>540.0</td>\n",
       "      <td>0.0</td>\n",
       "      <td>0.0</td>\n",
       "      <td>162.0</td>\n",
       "      <td>2.5</td>\n",
       "      <td>1055.0</td>\n",
       "      <td>676.0</td>\n",
       "      <td>28</td>\n",
       "      <td>61.89</td>\n",
       "    </tr>\n",
       "    <tr>\n",
       "      <th>2</th>\n",
       "      <td>332.5</td>\n",
       "      <td>142.5</td>\n",
       "      <td>0.0</td>\n",
       "      <td>228.0</td>\n",
       "      <td>0.0</td>\n",
       "      <td>932.0</td>\n",
       "      <td>594.0</td>\n",
       "      <td>270</td>\n",
       "      <td>40.27</td>\n",
       "    </tr>\n",
       "    <tr>\n",
       "      <th>3</th>\n",
       "      <td>332.5</td>\n",
       "      <td>142.5</td>\n",
       "      <td>0.0</td>\n",
       "      <td>228.0</td>\n",
       "      <td>0.0</td>\n",
       "      <td>932.0</td>\n",
       "      <td>594.0</td>\n",
       "      <td>365</td>\n",
       "      <td>41.05</td>\n",
       "    </tr>\n",
       "    <tr>\n",
       "      <th>4</th>\n",
       "      <td>198.6</td>\n",
       "      <td>132.4</td>\n",
       "      <td>0.0</td>\n",
       "      <td>192.0</td>\n",
       "      <td>0.0</td>\n",
       "      <td>978.4</td>\n",
       "      <td>825.5</td>\n",
       "      <td>360</td>\n",
       "      <td>44.30</td>\n",
       "    </tr>\n",
       "    <tr>\n",
       "      <th>...</th>\n",
       "      <td>...</td>\n",
       "      <td>...</td>\n",
       "      <td>...</td>\n",
       "      <td>...</td>\n",
       "      <td>...</td>\n",
       "      <td>...</td>\n",
       "      <td>...</td>\n",
       "      <td>...</td>\n",
       "      <td>...</td>\n",
       "    </tr>\n",
       "    <tr>\n",
       "      <th>1025</th>\n",
       "      <td>276.4</td>\n",
       "      <td>116.0</td>\n",
       "      <td>90.3</td>\n",
       "      <td>179.6</td>\n",
       "      <td>8.9</td>\n",
       "      <td>870.1</td>\n",
       "      <td>768.3</td>\n",
       "      <td>28</td>\n",
       "      <td>44.28</td>\n",
       "    </tr>\n",
       "    <tr>\n",
       "      <th>1026</th>\n",
       "      <td>322.2</td>\n",
       "      <td>0.0</td>\n",
       "      <td>115.6</td>\n",
       "      <td>196.0</td>\n",
       "      <td>10.4</td>\n",
       "      <td>817.9</td>\n",
       "      <td>813.4</td>\n",
       "      <td>28</td>\n",
       "      <td>31.18</td>\n",
       "    </tr>\n",
       "    <tr>\n",
       "      <th>1027</th>\n",
       "      <td>148.5</td>\n",
       "      <td>139.4</td>\n",
       "      <td>108.6</td>\n",
       "      <td>192.7</td>\n",
       "      <td>6.1</td>\n",
       "      <td>892.4</td>\n",
       "      <td>780.0</td>\n",
       "      <td>28</td>\n",
       "      <td>23.70</td>\n",
       "    </tr>\n",
       "    <tr>\n",
       "      <th>1028</th>\n",
       "      <td>159.1</td>\n",
       "      <td>186.7</td>\n",
       "      <td>0.0</td>\n",
       "      <td>175.6</td>\n",
       "      <td>11.3</td>\n",
       "      <td>989.6</td>\n",
       "      <td>788.9</td>\n",
       "      <td>28</td>\n",
       "      <td>32.77</td>\n",
       "    </tr>\n",
       "    <tr>\n",
       "      <th>1029</th>\n",
       "      <td>260.9</td>\n",
       "      <td>100.5</td>\n",
       "      <td>78.3</td>\n",
       "      <td>200.6</td>\n",
       "      <td>8.6</td>\n",
       "      <td>864.5</td>\n",
       "      <td>761.5</td>\n",
       "      <td>28</td>\n",
       "      <td>32.40</td>\n",
       "    </tr>\n",
       "  </tbody>\n",
       "</table>\n",
       "<p>1030 rows × 9 columns</p>\n",
       "</div>"
      ],
      "text/plain": [
       "      Cement  Blast Furnace Slag  Fly Ash  Water  Superplasticizer  \\\n",
       "0      540.0                 0.0      0.0  162.0               2.5   \n",
       "1      540.0                 0.0      0.0  162.0               2.5   \n",
       "2      332.5               142.5      0.0  228.0               0.0   \n",
       "3      332.5               142.5      0.0  228.0               0.0   \n",
       "4      198.6               132.4      0.0  192.0               0.0   \n",
       "...      ...                 ...      ...    ...               ...   \n",
       "1025   276.4               116.0     90.3  179.6               8.9   \n",
       "1026   322.2                 0.0    115.6  196.0              10.4   \n",
       "1027   148.5               139.4    108.6  192.7               6.1   \n",
       "1028   159.1               186.7      0.0  175.6              11.3   \n",
       "1029   260.9               100.5     78.3  200.6               8.6   \n",
       "\n",
       "      Coarse Aggregate  Fine Aggregate  Age  Strength  \n",
       "0               1040.0           676.0   28     79.99  \n",
       "1               1055.0           676.0   28     61.89  \n",
       "2                932.0           594.0  270     40.27  \n",
       "3                932.0           594.0  365     41.05  \n",
       "4                978.4           825.5  360     44.30  \n",
       "...                ...             ...  ...       ...  \n",
       "1025             870.1           768.3   28     44.28  \n",
       "1026             817.9           813.4   28     31.18  \n",
       "1027             892.4           780.0   28     23.70  \n",
       "1028             989.6           788.9   28     32.77  \n",
       "1029             864.5           761.5   28     32.40  \n",
       "\n",
       "[1030 rows x 9 columns]"
      ]
     },
     "execution_count": 4,
     "metadata": {},
     "output_type": "execute_result"
    }
   ],
   "source": [
    "concrete_data"
   ]
  },
  {
   "cell_type": "code",
   "execution_count": 5,
   "metadata": {},
   "outputs": [],
   "source": [
    "# train\n",
    "feature = concrete_data[['Cement', 'Blast Furnace Slag', 'Fly Ash', 'Water', 'Superplasticizer', 'Coarse Aggregate', 'Fine Aggregate', 'Age']]\n",
    "# Predictor\n",
    "target = concrete_data[['Strength']]"
   ]
  },
  {
   "cell_type": "code",
   "execution_count": 6,
   "metadata": {},
   "outputs": [
    {
     "data": {
      "text/plain": [
       "(721, 8)"
      ]
     },
     "execution_count": 6,
     "metadata": {},
     "output_type": "execute_result"
    }
   ],
   "source": [
    "# train Test split\n",
    "x_train_feature, x_test_feature, y_train_target, y_test_target = train_test_split(feature,target,test_size=0.30)\n",
    "x_train_feature.shape"
   ]
  },
  {
   "cell_type": "code",
   "execution_count": 7,
   "metadata": {},
   "outputs": [],
   "source": [
    "# call model\n",
    "model = tensorflow.keras.models.Sequential()"
   ]
  },
  {
   "cell_type": "code",
   "execution_count": 8,
   "metadata": {},
   "outputs": [],
   "source": [
    "# add input layer\n",
    "model.add(tensorflow.keras.layers.Dense(5, activation='relu', input_shape=(x_train_feature.shape[1],)))"
   ]
  },
  {
   "cell_type": "code",
   "execution_count": 9,
   "metadata": {},
   "outputs": [],
   "source": [
    "# add hidden layer\n",
    "model.add(tensorflow.keras.layers.Dense(10, activation='relu'))\n",
    "model.add(tensorflow.keras.layers.Dense(10, activation='relu'))\n",
    "model.add(tensorflow.keras.layers.Dense(10, activation='relu'))"
   ]
  },
  {
   "cell_type": "code",
   "execution_count": 10,
   "metadata": {},
   "outputs": [],
   "source": [
    "# add output layer\n",
    "model.add(tensorflow.keras.layers.Dense(1))"
   ]
  },
  {
   "cell_type": "code",
   "execution_count": 11,
   "metadata": {},
   "outputs": [],
   "source": [
    "# add optimizer and error metrics\n",
    "model.compile(optimizer='adam',loss='mean_squared_error')"
   ]
  },
  {
   "cell_type": "code",
   "execution_count": 12,
   "metadata": {},
   "outputs": [
    {
     "name": "stdout",
     "output_type": "stream",
     "text": [
      "Epoch 1/100\n",
      "23/23 [==============================] - 0s 1ms/step - loss: 362.5270\n",
      "Epoch 2/100\n",
      "23/23 [==============================] - 0s 1ms/step - loss: 289.2319\n",
      "Epoch 3/100\n",
      "23/23 [==============================] - 0s 1ms/step - loss: 234.9230\n",
      "Epoch 4/100\n",
      "23/23 [==============================] - 0s 1ms/step - loss: 171.0544\n",
      "Epoch 5/100\n",
      "23/23 [==============================] - 0s 1ms/step - loss: 152.1236\n",
      "Epoch 6/100\n",
      "23/23 [==============================] - 0s 2ms/step - loss: 144.9457\n",
      "Epoch 7/100\n",
      "23/23 [==============================] - 0s 2ms/step - loss: 145.1135\n",
      "Epoch 8/100\n",
      "23/23 [==============================] - 0s 2ms/step - loss: 143.7359\n",
      "Epoch 9/100\n",
      "23/23 [==============================] - 0s 2ms/step - loss: 136.5252\n",
      "Epoch 10/100\n",
      "23/23 [==============================] - 0s 2ms/step - loss: 130.7024\n",
      "Epoch 11/100\n",
      "23/23 [==============================] - 0s 2ms/step - loss: 128.3210\n",
      "Epoch 12/100\n",
      "23/23 [==============================] - 0s 1ms/step - loss: 131.9902\n",
      "Epoch 13/100\n",
      "23/23 [==============================] - 0s 2ms/step - loss: 122.5558\n",
      "Epoch 14/100\n",
      "23/23 [==============================] - 0s 2ms/step - loss: 122.9944\n",
      "Epoch 15/100\n",
      "23/23 [==============================] - 0s 2ms/step - loss: 124.1131\n",
      "Epoch 16/100\n",
      "23/23 [==============================] - 0s 1ms/step - loss: 119.0233\n",
      "Epoch 17/100\n",
      "23/23 [==============================] - 0s 2ms/step - loss: 116.7303\n",
      "Epoch 18/100\n",
      "23/23 [==============================] - 0s 2ms/step - loss: 118.1175\n",
      "Epoch 19/100\n",
      "23/23 [==============================] - 0s 2ms/step - loss: 117.9859\n",
      "Epoch 20/100\n",
      "23/23 [==============================] - 0s 1ms/step - loss: 114.1020\n",
      "Epoch 21/100\n",
      "23/23 [==============================] - 0s 2ms/step - loss: 115.3692\n",
      "Epoch 22/100\n",
      "23/23 [==============================] - 0s 1ms/step - loss: 110.5338\n",
      "Epoch 23/100\n",
      "23/23 [==============================] - 0s 2ms/step - loss: 113.3938\n",
      "Epoch 24/100\n",
      "23/23 [==============================] - 0s 2ms/step - loss: 112.9794\n",
      "Epoch 25/100\n",
      "23/23 [==============================] - 0s 1ms/step - loss: 105.9638\n",
      "Epoch 26/100\n",
      "23/23 [==============================] - 0s 1ms/step - loss: 108.8568\n",
      "Epoch 27/100\n",
      "23/23 [==============================] - 0s 1ms/step - loss: 108.3049\n",
      "Epoch 28/100\n",
      "23/23 [==============================] - 0s 1ms/step - loss: 104.3280\n",
      "Epoch 29/100\n",
      "23/23 [==============================] - 0s 1ms/step - loss: 102.1875\n",
      "Epoch 30/100\n",
      "23/23 [==============================] - 0s 2ms/step - loss: 106.1026\n",
      "Epoch 31/100\n",
      "23/23 [==============================] - 0s 1ms/step - loss: 101.0900\n",
      "Epoch 32/100\n",
      "23/23 [==============================] - 0s 2ms/step - loss: 104.1130\n",
      "Epoch 33/100\n",
      "23/23 [==============================] - 0s 1ms/step - loss: 104.0226\n",
      "Epoch 34/100\n",
      "23/23 [==============================] - 0s 1ms/step - loss: 98.0609\n",
      "Epoch 35/100\n",
      "23/23 [==============================] - 0s 1ms/step - loss: 96.7378\n",
      "Epoch 36/100\n",
      "23/23 [==============================] - 0s 1ms/step - loss: 102.2928\n",
      "Epoch 37/100\n",
      "23/23 [==============================] - 0s 1ms/step - loss: 99.5688\n",
      "Epoch 38/100\n",
      "23/23 [==============================] - 0s 1ms/step - loss: 95.6428\n",
      "Epoch 39/100\n",
      "23/23 [==============================] - 0s 1ms/step - loss: 94.1765\n",
      "Epoch 40/100\n",
      "23/23 [==============================] - 0s 1ms/step - loss: 96.0797\n",
      "Epoch 41/100\n",
      "23/23 [==============================] - 0s 997us/step - loss: 93.2676\n",
      "Epoch 42/100\n",
      "23/23 [==============================] - 0s 1ms/step - loss: 90.2684\n",
      "Epoch 43/100\n",
      "23/23 [==============================] - 0s 1ms/step - loss: 93.2801\n",
      "Epoch 44/100\n",
      "23/23 [==============================] - 0s 1ms/step - loss: 90.7637\n",
      "Epoch 45/100\n",
      "23/23 [==============================] - 0s 1ms/step - loss: 89.8023\n",
      "Epoch 46/100\n",
      "23/23 [==============================] - 0s 2ms/step - loss: 89.2717\n",
      "Epoch 47/100\n",
      "23/23 [==============================] - 0s 2ms/step - loss: 88.5239\n",
      "Epoch 48/100\n",
      "23/23 [==============================] - 0s 2ms/step - loss: 88.9769\n",
      "Epoch 49/100\n",
      "23/23 [==============================] - 0s 2ms/step - loss: 87.3841\n",
      "Epoch 50/100\n",
      "23/23 [==============================] - 0s 2ms/step - loss: 89.8154\n",
      "Epoch 51/100\n",
      "23/23 [==============================] - 0s 1ms/step - loss: 96.6896\n",
      "Epoch 52/100\n",
      "23/23 [==============================] - 0s 2ms/step - loss: 96.8660\n",
      "Epoch 53/100\n",
      "23/23 [==============================] - 0s 1ms/step - loss: 85.0324\n",
      "Epoch 54/100\n",
      "23/23 [==============================] - 0s 1ms/step - loss: 91.2863\n",
      "Epoch 55/100\n",
      "23/23 [==============================] - 0s 2ms/step - loss: 85.6014\n",
      "Epoch 56/100\n",
      "23/23 [==============================] - 0s 2ms/step - loss: 83.2452\n",
      "Epoch 57/100\n",
      "23/23 [==============================] - 0s 1ms/step - loss: 83.7717\n",
      "Epoch 58/100\n",
      "23/23 [==============================] - 0s 1ms/step - loss: 85.0278\n",
      "Epoch 59/100\n",
      "23/23 [==============================] - 0s 1ms/step - loss: 83.2058\n",
      "Epoch 60/100\n",
      "23/23 [==============================] - 0s 2ms/step - loss: 81.6902\n",
      "Epoch 61/100\n",
      "23/23 [==============================] - 0s 2ms/step - loss: 81.7022\n",
      "Epoch 62/100\n",
      "23/23 [==============================] - 0s 1ms/step - loss: 80.7225\n",
      "Epoch 63/100\n",
      "23/23 [==============================] - 0s 1ms/step - loss: 82.0383\n",
      "Epoch 64/100\n",
      "23/23 [==============================] - 0s 1ms/step - loss: 83.5530\n",
      "Epoch 65/100\n",
      "23/23 [==============================] - 0s 861us/step - loss: 79.6038\n",
      "Epoch 66/100\n",
      "23/23 [==============================] - 0s 1ms/step - loss: 80.2905\n",
      "Epoch 67/100\n",
      "23/23 [==============================] - 0s 2ms/step - loss: 82.9117\n",
      "Epoch 68/100\n",
      "23/23 [==============================] - 0s 2ms/step - loss: 79.4341\n",
      "Epoch 69/100\n",
      "23/23 [==============================] - 0s 1ms/step - loss: 80.0222\n",
      "Epoch 70/100\n",
      "23/23 [==============================] - 0s 2ms/step - loss: 78.6407\n",
      "Epoch 71/100\n",
      "23/23 [==============================] - 0s 2ms/step - loss: 80.0558\n",
      "Epoch 72/100\n",
      "23/23 [==============================] - 0s 2ms/step - loss: 78.7475\n",
      "Epoch 73/100\n",
      "23/23 [==============================] - 0s 2ms/step - loss: 76.7117\n",
      "Epoch 74/100\n",
      "23/23 [==============================] - 0s 2ms/step - loss: 82.4625\n",
      "Epoch 75/100\n",
      "23/23 [==============================] - 0s 1ms/step - loss: 80.8142\n",
      "Epoch 76/100\n",
      "23/23 [==============================] - 0s 2ms/step - loss: 78.4911\n",
      "Epoch 77/100\n",
      "23/23 [==============================] - 0s 1ms/step - loss: 79.5230\n",
      "Epoch 78/100\n",
      "23/23 [==============================] - 0s 1ms/step - loss: 76.9746\n",
      "Epoch 79/100\n",
      "23/23 [==============================] - 0s 2ms/step - loss: 77.8849\n",
      "Epoch 80/100\n",
      "23/23 [==============================] - 0s 1ms/step - loss: 76.7685\n",
      "Epoch 81/100\n",
      "23/23 [==============================] - 0s 1ms/step - loss: 75.8147\n",
      "Epoch 82/100\n",
      "23/23 [==============================] - 0s 1ms/step - loss: 78.2028\n",
      "Epoch 83/100\n",
      "23/23 [==============================] - 0s 1ms/step - loss: 77.5407\n",
      "Epoch 84/100\n",
      "23/23 [==============================] - 0s 1ms/step - loss: 73.8917\n",
      "Epoch 85/100\n",
      "23/23 [==============================] - 0s 1ms/step - loss: 73.9659\n",
      "Epoch 86/100\n",
      "23/23 [==============================] - 0s 2ms/step - loss: 75.0115\n",
      "Epoch 87/100\n",
      "23/23 [==============================] - 0s 1ms/step - loss: 75.3327\n",
      "Epoch 88/100\n",
      "23/23 [==============================] - 0s 1ms/step - loss: 78.4536\n",
      "Epoch 89/100\n",
      "23/23 [==============================] - 0s 2ms/step - loss: 73.5279\n",
      "Epoch 90/100\n",
      "23/23 [==============================] - 0s 2ms/step - loss: 89.9029\n",
      "Epoch 91/100\n",
      "23/23 [==============================] - 0s 2ms/step - loss: 86.5683\n",
      "Epoch 92/100\n",
      "23/23 [==============================] - 0s 2ms/step - loss: 76.5100\n",
      "Epoch 93/100\n",
      "23/23 [==============================] - 0s 2ms/step - loss: 72.0459\n",
      "Epoch 94/100\n",
      "23/23 [==============================] - 0s 1ms/step - loss: 72.1178\n",
      "Epoch 95/100\n",
      "23/23 [==============================] - 0s 2ms/step - loss: 75.8496\n",
      "Epoch 96/100\n",
      "23/23 [==============================] - 0s 1ms/step - loss: 72.0786\n",
      "Epoch 97/100\n",
      "23/23 [==============================] - 0s 2ms/step - loss: 72.0582\n",
      "Epoch 98/100\n",
      "23/23 [==============================] - 0s 2ms/step - loss: 74.1192\n",
      "Epoch 99/100\n",
      "23/23 [==============================] - 0s 2ms/step - loss: 76.3450\n",
      "Epoch 100/100\n",
      "23/23 [==============================] - 0s 1ms/step - loss: 76.2368\n"
     ]
    },
    {
     "data": {
      "text/plain": [
       "<keras.callbacks.History at 0x214f2ddf010>"
      ]
     },
     "execution_count": 12,
     "metadata": {},
     "output_type": "execute_result"
    }
   ],
   "source": [
    "# train model\n",
    "model.fit(x_train_feature, y_train_target, epochs=100)"
   ]
  },
  {
   "cell_type": "code",
   "execution_count": 13,
   "metadata": {},
   "outputs": [
    {
     "name": "stdout",
     "output_type": "stream",
     "text": [
      "10/10 [==============================] - 0s 1ms/step - loss: 89.2099\n"
     ]
    },
    {
     "data": {
      "text/plain": [
       "89.20993041992188"
      ]
     },
     "execution_count": 13,
     "metadata": {},
     "output_type": "execute_result"
    }
   ],
   "source": [
    "#model evaluation\n",
    "model.evaluate(x_test_feature, y_test_target)"
   ]
  },
  {
   "cell_type": "code",
   "execution_count": 14,
   "metadata": {},
   "outputs": [
    {
     "name": "stdout",
     "output_type": "stream",
     "text": [
      "10/10 [==============================] - 0s 1ms/step\n"
     ]
    }
   ],
   "source": [
    "# predictions\n",
    "y_pred_from_test_feature = model.predict(x_test_feature)"
   ]
  },
  {
   "cell_type": "code",
   "execution_count": 15,
   "metadata": {},
   "outputs": [
    {
     "name": "stdout",
     "output_type": "stream",
     "text": [
      "89.20993443348064 0.0\n"
     ]
    }
   ],
   "source": [
    "from sklearn.metrics import mean_squared_error as mse\n",
    "import numpy as np\n",
    "# mean squared error\n",
    "m = mse(y_test_target, y_pred_from_test_feature)\n",
    "# mean\n",
    "mean = np.mean(m)\n",
    "# standard deviation\n",
    "std = np.std(m)\n",
    "print(mean, std)"
   ]
  },
  {
   "cell_type": "code",
   "execution_count": 16,
   "metadata": {},
   "outputs": [
    {
     "name": "stdout",
     "output_type": "stream",
     "text": [
      "mean_square_error at 1 is 52.646697998046875\n",
      "10/10 [==============================] - 0s 1ms/step\n",
      "mean_square_error at 2 is 54.643001556396484\n",
      "10/10 [==============================] - 0s 751us/step\n",
      "mean_square_error at 3 is 44.2534065246582\n",
      "10/10 [==============================] - 0s 943us/step\n",
      "mean_square_error at 4 is 43.049625396728516\n",
      "10/10 [==============================] - 0s 958us/step\n",
      "mean_square_error at 5 is 42.37250518798828\n",
      "10/10 [==============================] - 0s 819us/step\n",
      "mean_square_error at 6 is 46.267547607421875\n",
      "10/10 [==============================] - 0s 951us/step\n",
      "mean_square_error at 7 is 56.556705474853516\n",
      "10/10 [==============================] - 0s 1ms/step\n",
      "mean_square_error at 8 is 40.345001220703125\n",
      "10/10 [==============================] - 0s 1ms/step\n",
      "mean_square_error at 9 is 35.5805778503418\n",
      "10/10 [==============================] - 0s 728us/step\n",
      "mean_square_error at 10 is 41.80849075317383\n",
      "10/10 [==============================] - 0s 1ms/step\n",
      "mean_square_error at 11 is 40.028072357177734\n",
      "10/10 [==============================] - 0s 1ms/step\n",
      "mean_square_error at 12 is 35.2947883605957\n",
      "10/10 [==============================] - 0s 1ms/step\n",
      "mean_square_error at 13 is 45.579410552978516\n",
      "10/10 [==============================] - 0s 1ms/step\n",
      "mean_square_error at 14 is 38.107872009277344\n",
      "10/10 [==============================] - 0s 919us/step\n",
      "mean_square_error at 15 is 36.82188034057617\n",
      "10/10 [==============================] - 0s 989us/step\n",
      "mean_square_error at 16 is 34.24483871459961\n",
      "10/10 [==============================] - 0s 955us/step\n",
      "mean_square_error at 17 is 34.98503875732422\n",
      "10/10 [==============================] - 0s 1ms/step\n",
      "mean_square_error at 18 is 40.44502639770508\n",
      "10/10 [==============================] - 0s 1ms/step\n",
      "mean_square_error at 19 is 35.887943267822266\n",
      "10/10 [==============================] - 0s 1ms/step\n",
      "mean_square_error at 20 is 37.76303482055664\n",
      "10/10 [==============================] - 0s 1ms/step\n",
      "mean_square_error at 21 is 41.56984329223633\n",
      "10/10 [==============================] - 0s 944us/step\n",
      "mean_square_error at 22 is 34.81855392456055\n",
      "10/10 [==============================] - 0s 868us/step\n",
      "mean_square_error at 23 is 32.29096221923828\n",
      "10/10 [==============================] - 0s 1ms/step\n",
      "mean_square_error at 24 is 32.96877670288086\n",
      "10/10 [==============================] - 0s 1ms/step\n",
      "mean_square_error at 25 is 35.46792984008789\n",
      "10/10 [==============================] - 0s 1ms/step\n",
      "mean_square_error at 26 is 33.5941047668457\n",
      "10/10 [==============================] - 0s 1ms/step\n",
      "mean_square_error at 27 is 31.74734878540039\n",
      "10/10 [==============================] - 0s 959us/step\n",
      "mean_square_error at 28 is 29.950862884521484\n",
      "10/10 [==============================] - 0s 1ms/step\n",
      "mean_square_error at 29 is 40.21810531616211\n",
      "10/10 [==============================] - 0s 919us/step\n",
      "mean_square_error at 30 is 33.499977111816406\n",
      "10/10 [==============================] - 0s 1ms/step\n",
      "mean_square_error at 31 is 30.751596450805664\n",
      "10/10 [==============================] - 0s 945us/step\n",
      "mean_square_error at 32 is 27.349918365478516\n",
      "10/10 [==============================] - 0s 974us/step\n",
      "mean_square_error at 33 is 29.213890075683594\n",
      "10/10 [==============================] - 0s 956us/step\n",
      "mean_square_error at 34 is 31.735578536987305\n",
      "10/10 [==============================] - 0s 1ms/step\n",
      "mean_square_error at 35 is 31.60590171813965\n",
      "10/10 [==============================] - 0s 764us/step\n",
      "mean_square_error at 36 is 40.051177978515625\n",
      "10/10 [==============================] - 0s 1ms/step\n",
      "mean_square_error at 37 is 35.38981246948242\n",
      "10/10 [==============================] - 0s 995us/step\n",
      "mean_square_error at 38 is 30.394479751586914\n",
      "10/10 [==============================] - 0s 1ms/step\n",
      "mean_square_error at 39 is 28.976245880126953\n",
      "10/10 [==============================] - 0s 1ms/step\n",
      "mean_square_error at 40 is 27.729747772216797\n",
      "10/10 [==============================] - 0s 868us/step\n",
      "mean_square_error at 41 is 32.78600311279297\n",
      "10/10 [==============================] - 0s 1ms/step\n",
      "mean_square_error at 42 is 31.822423934936523\n",
      "10/10 [==============================] - 0s 967us/step\n",
      "mean_square_error at 43 is 33.15877914428711\n",
      "10/10 [==============================] - 0s 1ms/step\n",
      "mean_square_error at 44 is 39.16652297973633\n",
      "10/10 [==============================] - 0s 793us/step\n",
      "mean_square_error at 45 is 34.13349533081055\n",
      "10/10 [==============================] - 0s 1ms/step\n",
      "mean_square_error at 46 is 30.877910614013672\n",
      "10/10 [==============================] - 0s 1ms/step\n",
      "mean_square_error at 47 is 32.30222702026367\n",
      "10/10 [==============================] - 0s 1ms/step\n",
      "mean_square_error at 48 is 33.13648986816406\n",
      "10/10 [==============================] - 0s 1ms/step\n",
      "mean_square_error at 49 is 36.0982551574707\n",
      "10/10 [==============================] - 0s 882us/step\n",
      "mean_square_error at 50 is 32.95195388793945\n",
      "10/10 [==============================] - 0s 978us/step\n",
      "\n",
      "\n",
      "\n",
      "\n",
      "The output below is the mean and standard deviation of fifty times of  50 mean squared errors without normalized data.\n",
      "- Number of epochs for each training: 100\n",
      "- Mean for fifty times: 36.6488068139615\n",
      "- Standard Deviation for fifty times: 6.453251334347163\n"
     ]
    }
   ],
   "source": [
    "from sklearn.metrics import mean_squared_error\n",
    "number_of_times_mean_squared_errors = 50\n",
    "total_epochs = 100\n",
    "\n",
    "mean_squared_errors_list = []\n",
    "for i in range(0,number_of_times_mean_squared_errors):\n",
    "    # split the train and test datasets\n",
    "    X_train_fifty, X_test_fifty, Y_train_fifty, Y_test_fifty = train_test_split(feature, target, test_size=0.3, random_state=i)\n",
    "    \n",
    "    # fit the model\n",
    "    model.fit(X_train_fifty, Y_train_fifty, epochs=total_epochs, verbose=0)\n",
    "    \n",
    "    # evaluate the model\n",
    "    mse_fifty = model.evaluate(X_test_fifty, Y_test_fifty, verbose=0)\n",
    "    print(\"mean_square_error at \" + str(i+1) + \" is \" + str(mse_fifty))\n",
    "    \n",
    "    # get the prediction\n",
    "    Y_pred_fifty = model.predict(X_test_fifty)\n",
    "    \n",
    "    # get the mean square error\n",
    "    mean_square_error_fifty = mean_squared_error(Y_test_fifty, Y_pred_fifty)\n",
    "    \n",
    "    # append result to the mean_squared_errors list\n",
    "    mean_squared_errors_list.append(mean_square_error_fifty)\n",
    "\n",
    "# convert to array list\n",
    "mean_squared_errors_array_of_fifty = np.array(mean_squared_errors_list)\n",
    "\n",
    "# get mean value from the array list\n",
    "mean_fifty = np.mean(mean_squared_errors_array_of_fifty)\n",
    "\n",
    "# get standard deviation using the array list\n",
    "standard_deviation_fifty = np.std(mean_squared_errors_array_of_fifty)\n",
    "\n",
    "print('\\n')\n",
    "print('\\n')\n",
    "print(\"The output below is the mean and standard deviation of fifty times of  \" + str(number_of_times_mean_squared_errors) + \" mean squared errors without normalized data.\")\n",
    "print(\"- Number of epochs for each training: \" + str(total_epochs))\n",
    "print(\"- Mean for fifty times: \" + str(mean_fifty))\n",
    "print(\"- Standard Deviation for fifty times: \" + str(standard_deviation_fifty))"
   ]
  },
  {
   "cell_type": "markdown",
   "metadata": {},
   "source": [
    "Result Analysis"
   ]
  },
  {
   "cell_type": "code",
   "execution_count": 17,
   "metadata": {},
   "outputs": [
    {
     "data": {
      "text/plain": [
       "((309, 8), (309, 1), (721, 1), (721, 8))"
      ]
     },
     "execution_count": 17,
     "metadata": {},
     "output_type": "execute_result"
    }
   ],
   "source": [
    "x_test_feature.shape, y_test_target.shape, y_train_target.shape, x_train_feature.shape"
   ]
  },
  {
   "cell_type": "code",
   "execution_count": 18,
   "metadata": {},
   "outputs": [
    {
     "name": "stdout",
     "output_type": "stream",
     "text": [
      "10/10 [==============================] - 0s 1ms/step\n",
      "10/10 [==============================] - 0s 1ms/step\n",
      "10/10 [==============================] - 0s 934us/step\n",
      "10/10 [==============================] - 0s 1ms/step\n",
      "10/10 [==============================] - 0s 966us/step\n",
      "10/10 [==============================] - 0s 912us/step\n",
      "10/10 [==============================] - 0s 1ms/step\n",
      "10/10 [==============================] - 0s 986us/step\n",
      "10/10 [==============================] - 0s 827us/step\n",
      "10/10 [==============================] - 0s 1ms/step\n"
     ]
    },
    {
     "data": {
      "image/png": "[encoded data removed]",
      "text/plain": [
       "<Figure size 1152x576 with 10 Axes>"
      ]
     },
     "metadata": {
      "needs_background": "light"
     },
     "output_type": "display_data"
    }
   ],
   "source": [
    "from matplotlib import pyplot as plt\n",
    "fig, axes = plt.subplots(2, 5, figsize=(16,8), sharex=True, sharey=True)\n",
    "losses_for_each_epochs = []\n",
    "for i in range(2):\n",
    "    for j in range(5):\n",
    "        model.fit(x_train_feature, y_train_target, epochs=50, batch_size=128, verbose=0);\n",
    "        pred_loss_from_feature_target = model.evaluate(x_test_feature, y_test_target, verbose=0)\n",
    "        losses_for_each_epochs.append(pred_loss_from_feature_target)\n",
    "        prediction_from_test_feature = model.predict(x_test_feature)\n",
    "        axes[i,j].scatter(prediction_from_test_feature, y_test_target, alpha=0.2, color= 'red')\n",
    "        axes[i,j].set_title('{0} epochs'.format((5*i+j+1)*50))\n",
    "        axes[i,j].set_ylabel('Actual Stength')\n",
    "        axes[i,j].set_xlabel('Predicted Stength')"
   ]
  },
  {
   "cell_type": "code",
   "execution_count": 19,
   "metadata": {},
   "outputs": [
    {
     "data": {
      "image/png": "[encoded data removed]",
      "text/plain": [
       "<Figure size 720x360 with 1 Axes>"
      ]
     },
     "metadata": {
      "needs_background": "light"
     },
     "output_type": "display_data"
    }
   ],
   "source": [
    "fig, ax = plt.subplots(1,1, figsize=(10, 5))\n",
    "ax.plot(losses_for_each_epochs)\n",
    "ax.set_title('Regression Model Loss for Concrete Strength at each epochs')\n",
    "number_of_epochs = [str(i*50) for i in range(1, len(losses_for_each_epochs)+1)]\n",
    "ax.set_xticks(range(len(losses_for_each_epochs)))\n",
    "ax.set_xticklabels(number_of_epochs)\n",
    "ax.set_xlabel('Number of Epochs')\n",
    "ax.set_ylabel('Mean Squared Error')\n",
    "ax.text(len(losses_for_each_epochs)-2, losses_for_each_epochs[len(losses_for_each_epochs)-1]+10, 'Min MSE: {0:.2f}'.format(losses_for_each_epochs[len(losses_for_each_epochs)-1]));"
   ]
  },
  {
   "cell_type": "code",
   "execution_count": null,
   "metadata": {},
   "outputs": [],
   "source": []
  }
 ],
 "metadata": {
  "kernelspec": {
   "display_name": "Python 3.10.4 64-bit",
   "language": "python",
   "name": "python3"
  },
  "language_info": {
   "codemirror_mode": {
    "name": "ipython",
    "version": 3
   },
   "file_extension": ".py",
   "mimetype": "text/x-python",
   "name": "python",
   "nbconvert_exporter": "python",
   "pygments_lexer": "ipython3",
   "version": "3.10.4"
  },
  "orig_nbformat": 4,
  "vscode": {
   "interpreter": {
    "hash": "45fe460a2312cbb437b9ad447f05e36440b07e4fdce5fdb9d346e5fc330032e8"
   }
  }
 },
 "nbformat": 4,
 "nbformat_minor": 2
}
